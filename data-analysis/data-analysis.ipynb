{
 "metadata": {
  "language_info": {
   "codemirror_mode": {
    "name": "ipython",
    "version": 3
   },
   "file_extension": ".py",
   "mimetype": "text/x-python",
   "name": "python",
   "nbconvert_exporter": "python",
   "pygments_lexer": "ipython3",
   "version": "3.7.6-final"
  },
  "orig_nbformat": 2,
  "kernelspec": {
   "name": "Python 3.7.6 64-bit ('base': conda)",
   "display_name": "Python 3.7.6 64-bit ('base': conda)",
   "metadata": {
    "interpreter": {
     "hash": "b3ba2566441a7c06988d0923437866b63cedc61552a5af99d1f4fb67d367b25f"
    }
   }
  }
 },
 "nbformat": 4,
 "nbformat_minor": 2,
 "cells": [
  {
   "source": [
    "<h2>In this notebook, the data is analysed and handled"
   ],
   "cell_type": "markdown",
   "metadata": {}
  },
  {
   "cell_type": "code",
   "execution_count": 49,
   "metadata": {},
   "outputs": [],
   "source": [
    "import numpy as np\n",
    "import pandas as pd"
   ]
  },
  {
   "cell_type": "code",
   "execution_count": 50,
   "metadata": {},
   "outputs": [],
   "source": [
    "df0=pd.read_excel('admission-predictionver.xlsx',index_col=0,header=0)  # reading the admission-predictionver.xlsx file and creating a data frame\n",
    "df=pd.DataFrame(df0)"
   ]
  },
  {
   "cell_type": "code",
   "execution_count": 51,
   "metadata": {},
   "outputs": [
    {
     "output_type": "execute_result",
     "data": {
      "text/plain": [
       "            GRE Score  TOEFL Score  University Rating  SOP  LOR  CGPA  \\\n",
       "Serial No.                                                              \n",
       "1               337.0        118.0                4.0  4.5  4.5  9.65   \n",
       "2               324.0        107.0                4.0  4.0  4.5  8.87   \n",
       "3               316.0        104.0                3.0  3.0  3.5  8.00   \n",
       "4               322.0        110.0                3.0  3.5  2.5  8.67   \n",
       "5               314.0        103.0                2.0  2.0  3.0  8.21   \n",
       "...               ...          ...                ...  ...  ...   ...   \n",
       "498             330.0        120.0                5.0  4.5  5.0  9.56   \n",
       "499             312.0        103.0                4.0  4.0  5.0  8.43   \n",
       "500             327.0        113.0                4.0  4.5  4.5  9.04   \n",
       "501             300.0         95.0                2.0  3.0  1.5  8.22   \n",
       "502             327.0        113.0                4.0  4.5  4.5  9.04   \n",
       "\n",
       "            Research  Chance of Admit  \n",
       "Serial No.                             \n",
       "1                1.0             0.92  \n",
       "2                1.0             0.76  \n",
       "3                1.0             0.72  \n",
       "4                1.0             0.80  \n",
       "5                0.0             0.65  \n",
       "...              ...              ...  \n",
       "498              1.0             0.93  \n",
       "499              0.0             0.73  \n",
       "500              0.0             0.84  \n",
       "501              1.0             0.62  \n",
       "502              0.0             0.84  \n",
       "\n",
       "[502 rows x 8 columns]"
      ],
      "text/html": "<div>\n<style scoped>\n    .dataframe tbody tr th:only-of-type {\n        vertical-align: middle;\n    }\n\n    .dataframe tbody tr th {\n        vertical-align: top;\n    }\n\n    .dataframe thead th {\n        text-align: right;\n    }\n</style>\n<table border=\"1\" class=\"dataframe\">\n  <thead>\n    <tr style=\"text-align: right;\">\n      <th></th>\n      <th>GRE Score</th>\n      <th>TOEFL Score</th>\n      <th>University Rating</th>\n      <th>SOP</th>\n      <th>LOR</th>\n      <th>CGPA</th>\n      <th>Research</th>\n      <th>Chance of Admit</th>\n    </tr>\n    <tr>\n      <th>Serial No.</th>\n      <th></th>\n      <th></th>\n      <th></th>\n      <th></th>\n      <th></th>\n      <th></th>\n      <th></th>\n      <th></th>\n    </tr>\n  </thead>\n  <tbody>\n    <tr>\n      <th>1</th>\n      <td>337.0</td>\n      <td>118.0</td>\n      <td>4.0</td>\n      <td>4.5</td>\n      <td>4.5</td>\n      <td>9.65</td>\n      <td>1.0</td>\n      <td>0.92</td>\n    </tr>\n    <tr>\n      <th>2</th>\n      <td>324.0</td>\n      <td>107.0</td>\n      <td>4.0</td>\n      <td>4.0</td>\n      <td>4.5</td>\n      <td>8.87</td>\n      <td>1.0</td>\n      <td>0.76</td>\n    </tr>\n    <tr>\n      <th>3</th>\n      <td>316.0</td>\n      <td>104.0</td>\n      <td>3.0</td>\n      <td>3.0</td>\n      <td>3.5</td>\n      <td>8.00</td>\n      <td>1.0</td>\n      <td>0.72</td>\n    </tr>\n    <tr>\n      <th>4</th>\n      <td>322.0</td>\n      <td>110.0</td>\n      <td>3.0</td>\n      <td>3.5</td>\n      <td>2.5</td>\n      <td>8.67</td>\n      <td>1.0</td>\n      <td>0.80</td>\n    </tr>\n    <tr>\n      <th>5</th>\n      <td>314.0</td>\n      <td>103.0</td>\n      <td>2.0</td>\n      <td>2.0</td>\n      <td>3.0</td>\n      <td>8.21</td>\n      <td>0.0</td>\n      <td>0.65</td>\n    </tr>\n    <tr>\n      <th>...</th>\n      <td>...</td>\n      <td>...</td>\n      <td>...</td>\n      <td>...</td>\n      <td>...</td>\n      <td>...</td>\n      <td>...</td>\n      <td>...</td>\n    </tr>\n    <tr>\n      <th>498</th>\n      <td>330.0</td>\n      <td>120.0</td>\n      <td>5.0</td>\n      <td>4.5</td>\n      <td>5.0</td>\n      <td>9.56</td>\n      <td>1.0</td>\n      <td>0.93</td>\n    </tr>\n    <tr>\n      <th>499</th>\n      <td>312.0</td>\n      <td>103.0</td>\n      <td>4.0</td>\n      <td>4.0</td>\n      <td>5.0</td>\n      <td>8.43</td>\n      <td>0.0</td>\n      <td>0.73</td>\n    </tr>\n    <tr>\n      <th>500</th>\n      <td>327.0</td>\n      <td>113.0</td>\n      <td>4.0</td>\n      <td>4.5</td>\n      <td>4.5</td>\n      <td>9.04</td>\n      <td>0.0</td>\n      <td>0.84</td>\n    </tr>\n    <tr>\n      <th>501</th>\n      <td>300.0</td>\n      <td>95.0</td>\n      <td>2.0</td>\n      <td>3.0</td>\n      <td>1.5</td>\n      <td>8.22</td>\n      <td>1.0</td>\n      <td>0.62</td>\n    </tr>\n    <tr>\n      <th>502</th>\n      <td>327.0</td>\n      <td>113.0</td>\n      <td>4.0</td>\n      <td>4.5</td>\n      <td>4.5</td>\n      <td>9.04</td>\n      <td>0.0</td>\n      <td>0.84</td>\n    </tr>\n  </tbody>\n</table>\n<p>502 rows × 8 columns</p>\n</div>"
     },
     "metadata": {},
     "execution_count": 51
    }
   ],
   "source": [
    "df  # data frame"
   ]
  },
  {
   "cell_type": "code",
   "execution_count": 52,
   "metadata": {},
   "outputs": [
    {
     "output_type": "stream",
     "name": "stdout",
     "text": [
      "['GRE Score', 'TOEFL Score', 'University Rating', 'SOP', 'LOR', 'CGPA', 'Research', 'Chance of Admit']\n"
     ]
    }
   ],
   "source": [
    "col_names=['GRE Score', 'TOEFL Score', 'University Rating', 'SOP', 'LOR', 'CGPA', 'Research', 'Chance of Admit'] # column names of of dataframe\n",
    "print(col_names)"
   ]
  },
  {
   "cell_type": "code",
   "execution_count": 53,
   "metadata": {},
   "outputs": [
    {
     "output_type": "stream",
     "name": "stdout",
     "text": [
      "Corresponding null frequncies are:  [('GRE Score', 2), ('TOEFL Score', 4), ('University Rating', 1), ('SOP', 2), ('LOR', 2), ('CGPA', 2), ('Research', 2), ('Chance of Admit', 0)]\n"
     ]
    }
   ],
   "source": [
    "def Calculate_NullFrequency():                  # function that calculates null frequency of corresponding columns\n",
    "    null_frequency= [0]*len(col_names)\n",
    "    col_num=0;\n",
    "    tmp=0\n",
    "    for column in col_names:\n",
    "        for cell in df[column]:\n",
    "            if(pd.isna(cell)):\n",
    "                null_frequency[col_num]+=1      \n",
    "        col_num+=1;\n",
    "\n",
    "    null_freq=list(zip(col_names,null_frequency))\n",
    "    return null_freq\n",
    "print(\"Corresponding null frequncies are: \",Calculate_NullFrequency())"
   ]
  },
  {
   "cell_type": "code",
   "execution_count": 54,
   "metadata": {},
   "outputs": [],
   "source": [
    "df['GRE Score'].fillna( value = round(df['GRE Score'].mean()), inplace=True)\n",
    "df['TOEFL Score'].fillna(value= round(df['TOEFL Score'].mean()) , inplace=True)\n",
    "df['University Rating'].fillna(value=int(df['University Rating'].median()) , inplace=True)  #fill the null cells with mean/median/mode\n",
    "df['SOP'].fillna(value=round(df['SOP'].median(),2) , inplace=True)\n",
    "df['LOR'].fillna(value=round(df['LOR'].median(),2) , inplace=True)\n",
    "df['CGPA'].fillna(value=round(df['CGPA'].mean(),2) , inplace=True)\n",
    "df['Research'].fillna(value=int(df['Research'].mode()) , inplace=True)"
   ]
  },
  {
   "cell_type": "code",
   "execution_count": 55,
   "metadata": {},
   "outputs": [
    {
     "output_type": "stream",
     "name": "stdout",
     "text": [
      "Null frequencies after handling the data:\n[('GRE Score', 0), ('TOEFL Score', 0), ('University Rating', 0), ('SOP', 0), ('LOR', 0), ('CGPA', 0), ('Research', 0), ('Chance of Admit', 0)]\n"
     ]
    }
   ],
   "source": [
    "print(\"Null frequencies after handling the data:\")                    # verifying that the null cells are succesfully filled and handled\n",
    "print(Calculate_NullFrequency())"
   ]
  },
  {
   "cell_type": "code",
   "execution_count": 56,
   "metadata": {},
   "outputs": [
    {
     "output_type": "stream",
     "name": "stdout",
     "text": [
      "The duplicates are:\n",
      "             GRE Score  TOEFL Score  University Rating  SOP  LOR  CGPA  \\\n",
      "Serial No.                                                              \n",
      "501             300.0         95.0                2.0  3.0  1.5  8.22   \n",
      "502             327.0        113.0                4.0  4.5  4.5  9.04   \n",
      "\n",
      "            Research  Chance of Admit  \n",
      "Serial No.                             \n",
      "501              1.0             0.62  \n",
      "502              0.0             0.84  \n",
      "Dataframe after removing duplicates: \n"
     ]
    },
    {
     "output_type": "execute_result",
     "data": {
      "text/plain": [
       "            GRE Score  TOEFL Score  University Rating  SOP  LOR  CGPA  \\\n",
       "Serial No.                                                              \n",
       "1               337.0        118.0                4.0  4.5  4.5  9.65   \n",
       "2               324.0        107.0                4.0  4.0  4.5  8.87   \n",
       "3               316.0        104.0                3.0  3.0  3.5  8.00   \n",
       "4               322.0        110.0                3.0  3.5  2.5  8.67   \n",
       "5               314.0        103.0                2.0  2.0  3.0  8.21   \n",
       "...               ...          ...                ...  ...  ...   ...   \n",
       "496             332.0        108.0                5.0  4.5  4.0  9.02   \n",
       "497             337.0        117.0                5.0  5.0  5.0  9.87   \n",
       "498             330.0        120.0                5.0  4.5  5.0  9.56   \n",
       "499             312.0        103.0                4.0  4.0  5.0  8.43   \n",
       "500             327.0        113.0                4.0  4.5  4.5  9.04   \n",
       "\n",
       "            Research  Chance of Admit  \n",
       "Serial No.                             \n",
       "1                1.0             0.92  \n",
       "2                1.0             0.76  \n",
       "3                1.0             0.72  \n",
       "4                1.0             0.80  \n",
       "5                0.0             0.65  \n",
       "...              ...              ...  \n",
       "496              1.0             0.87  \n",
       "497              1.0             0.96  \n",
       "498              1.0             0.93  \n",
       "499              0.0             0.73  \n",
       "500              0.0             0.84  \n",
       "\n",
       "[500 rows x 8 columns]"
      ],
      "text/html": "<div>\n<style scoped>\n    .dataframe tbody tr th:only-of-type {\n        vertical-align: middle;\n    }\n\n    .dataframe tbody tr th {\n        vertical-align: top;\n    }\n\n    .dataframe thead th {\n        text-align: right;\n    }\n</style>\n<table border=\"1\" class=\"dataframe\">\n  <thead>\n    <tr style=\"text-align: right;\">\n      <th></th>\n      <th>GRE Score</th>\n      <th>TOEFL Score</th>\n      <th>University Rating</th>\n      <th>SOP</th>\n      <th>LOR</th>\n      <th>CGPA</th>\n      <th>Research</th>\n      <th>Chance of Admit</th>\n    </tr>\n    <tr>\n      <th>Serial No.</th>\n      <th></th>\n      <th></th>\n      <th></th>\n      <th></th>\n      <th></th>\n      <th></th>\n      <th></th>\n      <th></th>\n    </tr>\n  </thead>\n  <tbody>\n    <tr>\n      <th>1</th>\n      <td>337.0</td>\n      <td>118.0</td>\n      <td>4.0</td>\n      <td>4.5</td>\n      <td>4.5</td>\n      <td>9.65</td>\n      <td>1.0</td>\n      <td>0.92</td>\n    </tr>\n    <tr>\n      <th>2</th>\n      <td>324.0</td>\n      <td>107.0</td>\n      <td>4.0</td>\n      <td>4.0</td>\n      <td>4.5</td>\n      <td>8.87</td>\n      <td>1.0</td>\n      <td>0.76</td>\n    </tr>\n    <tr>\n      <th>3</th>\n      <td>316.0</td>\n      <td>104.0</td>\n      <td>3.0</td>\n      <td>3.0</td>\n      <td>3.5</td>\n      <td>8.00</td>\n      <td>1.0</td>\n      <td>0.72</td>\n    </tr>\n    <tr>\n      <th>4</th>\n      <td>322.0</td>\n      <td>110.0</td>\n      <td>3.0</td>\n      <td>3.5</td>\n      <td>2.5</td>\n      <td>8.67</td>\n      <td>1.0</td>\n      <td>0.80</td>\n    </tr>\n    <tr>\n      <th>5</th>\n      <td>314.0</td>\n      <td>103.0</td>\n      <td>2.0</td>\n      <td>2.0</td>\n      <td>3.0</td>\n      <td>8.21</td>\n      <td>0.0</td>\n      <td>0.65</td>\n    </tr>\n    <tr>\n      <th>...</th>\n      <td>...</td>\n      <td>...</td>\n      <td>...</td>\n      <td>...</td>\n      <td>...</td>\n      <td>...</td>\n      <td>...</td>\n      <td>...</td>\n    </tr>\n    <tr>\n      <th>496</th>\n      <td>332.0</td>\n      <td>108.0</td>\n      <td>5.0</td>\n      <td>4.5</td>\n      <td>4.0</td>\n      <td>9.02</td>\n      <td>1.0</td>\n      <td>0.87</td>\n    </tr>\n    <tr>\n      <th>497</th>\n      <td>337.0</td>\n      <td>117.0</td>\n      <td>5.0</td>\n      <td>5.0</td>\n      <td>5.0</td>\n      <td>9.87</td>\n      <td>1.0</td>\n      <td>0.96</td>\n    </tr>\n    <tr>\n      <th>498</th>\n      <td>330.0</td>\n      <td>120.0</td>\n      <td>5.0</td>\n      <td>4.5</td>\n      <td>5.0</td>\n      <td>9.56</td>\n      <td>1.0</td>\n      <td>0.93</td>\n    </tr>\n    <tr>\n      <th>499</th>\n      <td>312.0</td>\n      <td>103.0</td>\n      <td>4.0</td>\n      <td>4.0</td>\n      <td>5.0</td>\n      <td>8.43</td>\n      <td>0.0</td>\n      <td>0.73</td>\n    </tr>\n    <tr>\n      <th>500</th>\n      <td>327.0</td>\n      <td>113.0</td>\n      <td>4.0</td>\n      <td>4.5</td>\n      <td>4.5</td>\n      <td>9.04</td>\n      <td>0.0</td>\n      <td>0.84</td>\n    </tr>\n  </tbody>\n</table>\n<p>500 rows × 8 columns</p>\n</div>"
     },
     "metadata": {},
     "execution_count": 56
    }
   ],
   "source": [
    "def Remove_duplicates():                                    # function that removes the duplicate rows in data frame\n",
    "    col_names=['GRE Score', 'TOEFL Score', 'University Rating', 'SOP', 'LOR', 'CGPA', 'Research', 'Chance of Admit']\n",
    "    duplicates= df[df.duplicated(subset=col_names)]\n",
    "    df.drop_duplicates(subset=col_names,inplace=True)   # remove duplicates from data frame\n",
    "    return duplicates\n",
    "\n",
    "print(\"The duplicates are:\\n\",Remove_duplicates())\n",
    "print(\"Dataframe after removing duplicates: \")\n",
    "df"
   ]
  },
  {
   "cell_type": "code",
   "execution_count": 57,
   "metadata": {},
   "outputs": [],
   "source": [
    "with pd.ExcelWriter('./admission-pred-AnalysedData.xlsx') as writer:\n",
    "    df.to_excel(writer, sheet_name='Sheet1')\n",
    "# the analysied data is stored in admission-pred-analysedData.xlsx file"
   ]
  },
  {
   "cell_type": "code",
   "execution_count": null,
   "metadata": {},
   "outputs": [],
   "source": []
  }
 ]
}